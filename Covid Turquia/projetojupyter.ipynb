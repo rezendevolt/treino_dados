import pandas as pd
import matplotlib.pyplot as plt


dados = pd.read_excel("covid19Vaccination.xlsx")
